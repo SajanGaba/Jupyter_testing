{
 "cells": [
  {
   "cell_type": "markdown",
   "id": "b6884926-11a7-4d01-b423-5f8092be3f87",
   "metadata": {},
   "source": [
    "# Data Science Tools and Ecosystem"
   ]
  },
  {
   "cell_type": "markdown",
   "id": "316d9b7a-486b-45cb-b8e7-7688196d2120",
   "metadata": {},
   "source": [
    "In this notebook, Data Science Tools and Ecosystem are summarized."
   ]
  },
  {
   "cell_type": "markdown",
   "id": "12bedd2a-5a28-4e62-b866-7c897d1e989c",
   "metadata": {},
   "source": [
    "**Objectives**\n",
    " - List of popular languages for Data Science\n",
    " - List of commonly used libraries used by Data Scientists\n",
    " - List of commonly used developing environments\n",
    " - Example of solving an arithmetic expression with Python"
   ]
  },
  {
   "cell_type": "markdown",
   "id": "e5c7a3f3-d9be-441e-b900-92d111c14682",
   "metadata": {},
   "source": [
    "Some of the popular languages that Data Scientists use are:\n",
    "1. Python\n",
    "2. R\n",
    "3. Java\n",
    "4. Scala"
   ]
  },
  {
   "cell_type": "markdown",
   "id": "5a6f0f34-f92c-43f5-87f9-5a8dc1b44d44",
   "metadata": {},
   "source": [
    "Some of the commonly used libraries used by Data Scientists include:\n",
    "1. Pandas\n",
    "2. Numpy\n",
    "3. Matplotlib\n",
    "4. Seaborn\n",
    "5. Scikit"
   ]
  },
  {
   "cell_type": "markdown",
   "id": "05738d7b-4860-4511-9061-4a1d58c64b89",
   "metadata": {},
   "source": [
    "| Data Science Tools |\n",
    "| ------------------ |\n",
    "| Jupyter Notebooks |\n",
    "| VS Code |\n",
    "| Spyder |\n",
    "| Rodeo|"
   ]
  },
  {
   "cell_type": "markdown",
   "id": "6dac7682-24a6-4919-a90a-1126c8e3fdf5",
   "metadata": {},
   "source": [
    "### Below are a few examples of evaluating arithmetic expressions in Python."
   ]
  },
  {
   "cell_type": "code",
   "execution_count": 1,
   "id": "a246b9dc-6975-4f19-a5ab-3c25c2e95fe0",
   "metadata": {
    "tags": []
   },
   "outputs": [
    {
     "data": {
      "text/plain": [
       "17"
      ]
     },
     "execution_count": 1,
     "metadata": {},
     "output_type": "execute_result"
    }
   ],
   "source": [
    "# This a simple arithmetic expression to multiply then add integers.\n",
    "(3*4)+5"
   ]
  },
  {
   "cell_type": "code",
   "execution_count": 2,
   "id": "2d5558e5-9091-45f0-b4d9-a0ba9eadca59",
   "metadata": {
    "tags": []
   },
   "outputs": [
    {
     "name": "stdout",
     "output_type": "stream",
     "text": [
      "hours 3.3333333333333335\n"
     ]
    }
   ],
   "source": [
    "# This will convert 200 minutes to hours by dividing by 60.\n",
    "minutes = 200\n",
    "hours = minutes/60\n",
    "print('hours',hours)"
   ]
  },
  {
   "cell_type": "markdown",
   "id": "4612c8c9-f2a9-4fc1-a9f2-87133ab9ae28",
   "metadata": {},
   "source": [
    "## Author\n",
    "Sajan Gaba"
   ]
  },
  {
   "cell_type": "code",
   "execution_count": null,
   "id": "72552800-2693-44c2-8cde-657455b21445",
   "metadata": {},
   "outputs": [],
   "source": []
  }
 ],
 "metadata": {
  "kernelspec": {
   "display_name": "Python",
   "language": "python",
   "name": "conda-env-python-py"
  },
  "language_info": {
   "codemirror_mode": {
    "name": "ipython",
    "version": 3
   },
   "file_extension": ".py",
   "mimetype": "text/x-python",
   "name": "python",
   "nbconvert_exporter": "python",
   "pygments_lexer": "ipython3",
   "version": "3.7.12"
  }
 },
 "nbformat": 4,
 "nbformat_minor": 5
}
